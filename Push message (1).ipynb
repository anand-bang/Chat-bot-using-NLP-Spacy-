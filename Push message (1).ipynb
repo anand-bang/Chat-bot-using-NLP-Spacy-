{
 "cells": [
  {
   "cell_type": "code",
   "execution_count": 2,
   "id": "cae5c52e",
   "metadata": {},
   "outputs": [],
   "source": [
    "import telebot\n",
    "\n",
    "bot = telebot.TeleBot(\"1887919896:AAFwKD6hlZZH25JY2QSeEvlRZpMm4ILK3jE\", parse_mode=None)\n",
    "@bot.message_handler()\n",
    "\n",
    "def sendmsg():\n",
    "\n",
    "    bot.send_message(1113053155,\"Hey Abhishek!\")    \n",
    "    bot.send_message(1113053155,\"There is a guest lecture on blockchain on 28 Oct 2021. Please visit the college website to Register.\")    \n",
    "\n",
    "\n",
    "sendmsg()"
   ]
  },
  {
   "cell_type": "code",
   "execution_count": null,
   "id": "ff81f932",
   "metadata": {},
   "outputs": [],
   "source": [
    "#     bot.send_message(1703416682,\"Type 'help' to get started\")    # Prajakta ma'am\n",
    "\n",
    "#     bot.send_message(731199052,\"Anand\")    \n",
    "# 731199052 anand"
   ]
  }
 ],
 "metadata": {
  "kernelspec": {
   "display_name": "Python 3",
   "language": "python",
   "name": "python3"
  },
  "language_info": {
   "codemirror_mode": {
    "name": "ipython",
    "version": 3
   },
   "file_extension": ".py",
   "mimetype": "text/x-python",
   "name": "python",
   "nbconvert_exporter": "python",
   "pygments_lexer": "ipython3",
   "version": "3.7.11"
  }
 },
 "nbformat": 4,
 "nbformat_minor": 5
}
