{
 "cells": [
  {
   "cell_type": "code",
   "execution_count": 1,
   "metadata": {},
   "outputs": [],
   "source": [
    "\n",
    "import telebot\n",
    "from numpy import random\n"
   ]
  },
  {
   "cell_type": "code",
   "execution_count": 2,
   "metadata": {},
   "outputs": [],
   "source": [
    "import spacy\n",
    "from spacy.matcher import PhraseMatcher\n",
    "nlp = spacy.load('en_core_web_sm')\n",
    "matcher = PhraseMatcher(nlp.vocab)"
   ]
  },
  {
   "cell_type": "markdown",
   "metadata": {},
   "source": [
    "### greetings"
   ]
  },
  {
   "cell_type": "code",
   "execution_count": 3,
   "metadata": {},
   "outputs": [
    {
     "data": {
      "text/plain": [
       "['how are you',\n",
       " 'how are you doing',\n",
       " 'all good',\n",
       " 'hi',\n",
       " 'hello',\n",
       " 'how you doing',\n",
       " 'hey',\n",
       " 'ola']"
      ]
     },
     "execution_count": 3,
     "metadata": {},
     "output_type": "execute_result"
    }
   ],
   "source": [
    "phrase_list = [\"how are you\",\"how are you doing\",\"all good\",\"hi\",\"hello\",\"how you doing\",\"hey\",\"ola\"]\n",
    "phrase_list"
   ]
  },
  {
   "cell_type": "code",
   "execution_count": 4,
   "metadata": {},
   "outputs": [
    {
     "data": {
      "text/plain": [
       "[how are you, how are you doing, all good, hi, hello, how you doing, hey, ola]"
      ]
     },
     "execution_count": 4,
     "metadata": {},
     "output_type": "execute_result"
    }
   ],
   "source": [
    "phrase_patterns = [nlp(text) for text in phrase_list]\n",
    "phrase_patterns"
   ]
  },
  {
   "cell_type": "code",
   "execution_count": 5,
   "metadata": {},
   "outputs": [],
   "source": [
    "matcher.add('small_talk',None,*phrase_patterns)"
   ]
  },
  {
   "cell_type": "markdown",
   "metadata": {},
   "source": [
    "### college location"
   ]
  },
  {
   "cell_type": "code",
   "execution_count": 6,
   "metadata": {},
   "outputs": [
    {
     "data": {
      "text/plain": [
       "['where is the college',\n",
       " 'college location',\n",
       " 'college situated',\n",
       " \"where's the college\"]"
      ]
     },
     "execution_count": 6,
     "metadata": {},
     "output_type": "execute_result"
    }
   ],
   "source": [
    "phrase_list1 = [\"where is the college\" , \"college location\" , \"college situated\",\"where's the college\"]\n",
    "phrase_list1"
   ]
  },
  {
   "cell_type": "code",
   "execution_count": 7,
   "metadata": {},
   "outputs": [
    {
     "data": {
      "text/plain": [
       "[where is the college, college location, college situated, where's the college]"
      ]
     },
     "execution_count": 7,
     "metadata": {},
     "output_type": "execute_result"
    }
   ],
   "source": [
    "phrase_patterns1 = [nlp(text) for text in phrase_list1]\n",
    "phrase_patterns1"
   ]
  },
  {
   "cell_type": "code",
   "execution_count": 8,
   "metadata": {},
   "outputs": [],
   "source": [
    "matcher.add('college_mit',None,*phrase_patterns1)"
   ]
  },
  {
   "cell_type": "markdown",
   "metadata": {},
   "source": [
    "### dsbda admission"
   ]
  },
  {
   "cell_type": "code",
   "execution_count": 9,
   "metadata": {},
   "outputs": [
    {
     "data": {
      "text/plain": [
       "['what is the eligiblity for dsbda program',\n",
       " 'how to get admission in dsbda',\n",
       " 'how to get admission in dsbda program',\n",
       " 'what is the eligiblity for dsbda course',\n",
       " 'how to get into dsbda',\n",
       " 'admission process for dsbda']"
      ]
     },
     "execution_count": 9,
     "metadata": {},
     "output_type": "execute_result"
    }
   ],
   "source": [
    "phrase_list2 = [\"what is the eligiblity for dsbda program\" , \n",
    "                \"how to get admission in dsbda\" ,\n",
    "                \"how to get admission in dsbda program\",\n",
    "               \"what is the eligiblity for dsbda course\",\n",
    "               \"how to get into dsbda\",\n",
    "               \"admission process for dsbda\"]\n",
    "phrase_list2\n"
   ]
  },
  {
   "cell_type": "code",
   "execution_count": 10,
   "metadata": {},
   "outputs": [
    {
     "data": {
      "text/plain": [
       "[what is the eligiblity for dsbda program,\n",
       " how to get admission in dsbda,\n",
       " how to get admission in dsbda program,\n",
       " what is the eligiblity for dsbda course,\n",
       " how to get into dsbda,\n",
       " admission process for dsbda]"
      ]
     },
     "execution_count": 10,
     "metadata": {},
     "output_type": "execute_result"
    }
   ],
   "source": [
    "phrase_patterns2 = [nlp(text) for text in phrase_list2]\n",
    "phrase_patterns2"
   ]
  },
  {
   "cell_type": "code",
   "execution_count": 11,
   "metadata": {},
   "outputs": [],
   "source": [
    "matcher.add('adm_dsbda',None,*phrase_patterns2)"
   ]
  },
  {
   "cell_type": "markdown",
   "metadata": {},
   "source": [
    "### pgpet"
   ]
  },
  {
   "cell_type": "code",
   "execution_count": 12,
   "metadata": {},
   "outputs": [
    {
     "data": {
      "text/plain": [
       "['what is pgpet', 'pgpet']"
      ]
     },
     "execution_count": 12,
     "metadata": {},
     "output_type": "execute_result"
    }
   ],
   "source": [
    "pgpet = [\"what is pgpet\",\n",
    "               \"pgpet\"]\n",
    "pgpet"
   ]
  },
  {
   "cell_type": "code",
   "execution_count": 13,
   "metadata": {},
   "outputs": [
    {
     "data": {
      "text/plain": [
       "[what is pgpet, pgpet]"
      ]
     },
     "execution_count": 13,
     "metadata": {},
     "output_type": "execute_result"
    }
   ],
   "source": [
    "pgpet = [nlp(text) for text in pgpet]\n",
    "pgpet"
   ]
  },
  {
   "cell_type": "code",
   "execution_count": 14,
   "metadata": {},
   "outputs": [],
   "source": [
    "matcher.add('pgpet',None,*pgpet)"
   ]
  },
  {
   "cell_type": "markdown",
   "metadata": {},
   "source": [
    "### pgpet syllabus"
   ]
  },
  {
   "cell_type": "code",
   "execution_count": 15,
   "metadata": {},
   "outputs": [
    {
     "data": {
      "text/plain": [
       "['how to study for pgpet',\n",
       " 'syllabus for pgpet',\n",
       " 'how to study for pgpet?',\n",
       " 'syllabus for pgpet?',\n",
       " 'is the test easy',\n",
       " 'is it easy',\n",
       " 'How do i study for pgpet']"
      ]
     },
     "execution_count": 15,
     "metadata": {},
     "output_type": "execute_result"
    }
   ],
   "source": [
    "pgpet2 = [\"how to study for pgpet\" ,\n",
    "          \"syllabus for pgpet\",\n",
    "          \"how to study for pgpet?\",\n",
    "          \"syllabus for pgpet?\",\n",
    "          \"is the test easy\",\n",
    "         \"is it easy\",\n",
    "         \"How do i study for pgpet\"]\n",
    "          \n",
    "          \n",
    "pgpet2"
   ]
  },
  {
   "cell_type": "code",
   "execution_count": 16,
   "metadata": {},
   "outputs": [
    {
     "data": {
      "text/plain": [
       "[how to study for pgpet,\n",
       " syllabus for pgpet,\n",
       " how to study for pgpet?,\n",
       " syllabus for pgpet?,\n",
       " is the test easy,\n",
       " is it easy,\n",
       " How do i study for pgpet]"
      ]
     },
     "execution_count": 16,
     "metadata": {},
     "output_type": "execute_result"
    }
   ],
   "source": [
    "pgpet2 = [nlp(text) for text in pgpet2]\n",
    "pgpet2"
   ]
  },
  {
   "cell_type": "code",
   "execution_count": 17,
   "metadata": {},
   "outputs": [],
   "source": [
    "matcher.add('about_pgpet',None,*pgpet2)"
   ]
  },
  {
   "cell_type": "code",
   "execution_count": null,
   "metadata": {},
   "outputs": [],
   "source": []
  },
  {
   "cell_type": "markdown",
   "metadata": {},
   "source": [
    "### admission_process"
   ]
  },
  {
   "cell_type": "code",
   "execution_count": 18,
   "metadata": {},
   "outputs": [],
   "source": [
    "adm_p_doc = [\"which documents are required for admission process\",\n",
    "       \"what documents are required for admission process\",\n",
    "        \"what documents are required for dsbda admission\",\n",
    "            ]"
   ]
  },
  {
   "cell_type": "code",
   "execution_count": 19,
   "metadata": {},
   "outputs": [
    {
     "data": {
      "text/plain": [
       "[which documents are required for admission process,\n",
       " what documents are required for admission process,\n",
       " what documents are required for dsbda admission]"
      ]
     },
     "execution_count": 19,
     "metadata": {},
     "output_type": "execute_result"
    }
   ],
   "source": [
    "adm_p_doc = [nlp(text) for text in adm_p_doc]\n",
    "adm_p_doc"
   ]
  },
  {
   "cell_type": "code",
   "execution_count": 20,
   "metadata": {},
   "outputs": [],
   "source": [
    "matcher.add('adm_p_doc_mit',None,*adm_p_doc)"
   ]
  },
  {
   "cell_type": "code",
   "execution_count": null,
   "metadata": {},
   "outputs": [],
   "source": []
  },
  {
   "cell_type": "markdown",
   "metadata": {},
   "source": [
    "### help"
   ]
  },
  {
   "cell_type": "code",
   "execution_count": 21,
   "metadata": {},
   "outputs": [],
   "source": [
    "helpp = [\"what can you do\",\n",
    "        \"what information do you have\",\n",
    "        \"how can you help me\",\n",
    "        \"what is your use\",\n",
    "        \"how can i use you\",\n",
    "        \"help\",\n",
    "        \"help me\"]"
   ]
  },
  {
   "cell_type": "code",
   "execution_count": 22,
   "metadata": {},
   "outputs": [
    {
     "data": {
      "text/plain": [
       "[what can you do,\n",
       " what information do you have,\n",
       " how can you help me,\n",
       " what is your use,\n",
       " how can i use you,\n",
       " help,\n",
       " help me]"
      ]
     },
     "execution_count": 22,
     "metadata": {},
     "output_type": "execute_result"
    }
   ],
   "source": [
    "helpp = [nlp(text) for text in helpp]\n",
    "helpp"
   ]
  },
  {
   "cell_type": "code",
   "execution_count": 23,
   "metadata": {},
   "outputs": [],
   "source": [
    "matcher.add('mit_help',None,*helpp)"
   ]
  },
  {
   "cell_type": "code",
   "execution_count": null,
   "metadata": {},
   "outputs": [],
   "source": []
  },
  {
   "cell_type": "code",
   "execution_count": 24,
   "metadata": {},
   "outputs": [],
   "source": [
    "byee = ['bye-bye',\n",
    "       'goodbye',\n",
    "       'have a good day',\n",
    "       'bye',\n",
    "        'bye bye',\n",
    "       'exit',\n",
    "       'good talking with you',\n",
    "       'farewell']"
   ]
  },
  {
   "cell_type": "code",
   "execution_count": 25,
   "metadata": {},
   "outputs": [
    {
     "data": {
      "text/plain": [
       "[bye-bye,\n",
       " goodbye,\n",
       " have a good day,\n",
       " bye,\n",
       " bye bye,\n",
       " exit,\n",
       " good talking with you,\n",
       " farewell]"
      ]
     },
     "execution_count": 25,
     "metadata": {},
     "output_type": "execute_result"
    }
   ],
   "source": [
    "byee = [nlp(text) for text in byee]\n",
    "byee"
   ]
  },
  {
   "cell_type": "code",
   "execution_count": 26,
   "metadata": {},
   "outputs": [],
   "source": [
    "matcher.add('byee',None,*byee)"
   ]
  },
  {
   "cell_type": "code",
   "execution_count": null,
   "metadata": {},
   "outputs": [],
   "source": []
  },
  {
   "cell_type": "code",
   "execution_count": 27,
   "metadata": {},
   "outputs": [],
   "source": [
    "okay = ['okay',\n",
    "       'ok',\n",
    "       'cool',\n",
    "       'yeah',\n",
    "       'yea',\n",
    "       'alright',\n",
    "       'great',\n",
    "       'cool',\n",
    "       'k']"
   ]
  },
  {
   "cell_type": "code",
   "execution_count": 28,
   "metadata": {},
   "outputs": [
    {
     "data": {
      "text/plain": [
       "[okay, ok, cool, yeah, yea, alright, great, cool, k]"
      ]
     },
     "execution_count": 28,
     "metadata": {},
     "output_type": "execute_result"
    }
   ],
   "source": [
    "okay = [nlp(text) for text in okay]\n",
    "okay"
   ]
  },
  {
   "cell_type": "code",
   "execution_count": 29,
   "metadata": {},
   "outputs": [],
   "source": [
    "matcher.add('okay',None,*okay)"
   ]
  },
  {
   "cell_type": "code",
   "execution_count": 30,
   "metadata": {},
   "outputs": [],
   "source": [
    "thanks = ['thanks',\n",
    "         'thank you',\n",
    "         'you are a saviour'\n",
    "          'thank-you'\n",
    "         ]"
   ]
  },
  {
   "cell_type": "code",
   "execution_count": 31,
   "metadata": {},
   "outputs": [
    {
     "data": {
      "text/plain": [
       "[thanks, thank you, you are a saviourthank-you]"
      ]
     },
     "execution_count": 31,
     "metadata": {},
     "output_type": "execute_result"
    }
   ],
   "source": [
    "thanks = [nlp(text) for text in thanks]\n",
    "thanks"
   ]
  },
  {
   "cell_type": "code",
   "execution_count": 32,
   "metadata": {},
   "outputs": [],
   "source": [
    "matcher.add('thanks',None,*thanks)"
   ]
  },
  {
   "cell_type": "code",
   "execution_count": 33,
   "metadata": {},
   "outputs": [],
   "source": [
    "import pdb\n",
    "import datetime\n",
    "import json\n"
   ]
  },
  {
   "cell_type": "code",
   "execution_count": null,
   "metadata": {},
   "outputs": [],
   "source": []
  },
  {
   "cell_type": "code",
   "execution_count": null,
   "metadata": {},
   "outputs": [],
   "source": []
  },
  {
   "cell_type": "code",
   "execution_count": null,
   "metadata": {},
   "outputs": [],
   "source": []
  },
  {
   "cell_type": "code",
   "execution_count": 34,
   "metadata": {},
   "outputs": [],
   "source": [
    "listofmatch = [\"mit_help\" ,\"adm_p_doc_mit\" ,\"about_pgpet\" , \"pgpet\" , \"adm_dsbda\" ,\"college_mit\",\"small_talk\"]"
   ]
  },
  {
   "cell_type": "code",
   "execution_count": null,
   "metadata": {},
   "outputs": [],
   "source": []
  },
  {
   "cell_type": "code",
   "execution_count": 35,
   "metadata": {},
   "outputs": [
    {
     "name": "stdout",
     "output_type": "stream",
     "text": [
      "Original Message : Pgpet\n",
      "4069992424009220328 pgpet 0 1 pgpet\n",
      "Original Message : How to study for pgpet\n",
      "3859451907122175582 about_pgpet 0 5 for pgpet\n",
      "Original Message : Hos to get into dsbda program\n",
      "Original Message : How to get into dsbda program\n",
      "1455768667197868440 adm_dsbda 0 5 dsbda program\n",
      "Original Message : What is pgpet\n",
      "4069992424009220328 pgpet 0 3 is pgpet\n",
      "Original Message : How to study for pgpet\n",
      "3859451907122175582 about_pgpet 0 5 for pgpet\n",
      "Original Message : Where is the college located\n",
      "5254938893645655362 college_mit 0 4 college located\n",
      "Original Message : Where is the college located\n",
      "5254938893645655362 college_mit 0 4 college located\n",
      "Original Message : Where is the college located\n",
      "5254938893645655362 college_mit 0 4 college located\n",
      "Original Message : Where is the college located\n",
      "5254938893645655362 college_mit 0 4 college located\n",
      "Original Message : Where is the college located\n",
      "5254938893645655362 college_mit 0 4 college located\n",
      "Original Message : Thanks\n",
      "7722715852355611219 thanks 0 1 thanks\n",
      "Original Message : Thanks\n",
      "7722715852355611219 thanks 0 1 thanks\n",
      "Original Message : Thanks\n",
      "7722715852355611219 thanks 0 1 thanks\n",
      "Original Message : Yes\n",
      "Original Message : Ok\n",
      "6434282243460496691 okay 0 1 ok\n"
     ]
    }
   ],
   "source": [
    "bot = telebot.TeleBot(\"1887919896:AAFwKD6hlZZH25JY2QSeEvlRZpMm4ILK3jE\", parse_mode=None)\n",
    "@bot.message_handler()\n",
    "def small_talk(message):\n",
    "    #logger\n",
    "    x = datetime.datetime.now()\n",
    "    time = x.strftime(\"%c\")\n",
    "    data = {\n",
    "        \"Userid\":message.from_user.id , \n",
    "            \"First Name\":message.from_user.first_name , \n",
    "            \"Last Name\":message.from_user.last_name,\n",
    "        \"Original Message:\":message.text,\n",
    "        \"Message_time\":time\n",
    "\n",
    "    }\n",
    "    with open(\"sample.json\", \"a\") as outfile:\n",
    "        json.dump(data, outfile , indent=4,sort_keys=False,)\n",
    "    \n",
    "    \n",
    "    \n",
    "    \n",
    "    \n",
    "    \n",
    "    \n",
    "    \n",
    "    \n",
    "    \n",
    "    \n",
    "    \n",
    "\n",
    "    text_message = message.text\n",
    "    print(f\"Original Message : {text_message}\")\n",
    "    text_message = text_message.lower()\n",
    "    text_doc = nlp(text_message)\n",
    "    found_matches = matcher(text_doc)\n",
    "#     pdb.set_trace()\n",
    "\n",
    "    if found_matches == []: \n",
    "        bot.reply_to(message,\"Sorry I don't understand you :( \")\n",
    "        bot.reply_to(message,\"*Refrain from using special characters while chatting with the bot*\")\n",
    "    for match_id,start,end in found_matches:\n",
    "        string_id = nlp.vocab.strings[match_id]\n",
    "        span = text_doc[start-2:end+2]\n",
    "        print(match_id,string_id,start,end,span.text)\n",
    "        \n",
    "        if string_id == \"small_talk\":\n",
    "            x = random.randint(6)\n",
    "            if x==1:\n",
    "                bot.reply_to(message,\"Hello\")\n",
    "                bot.reply_to(message,\"type help to get started!\")\n",
    "                \n",
    "                \n",
    "            elif x==2:\n",
    "                bot.reply_to(message,\"Hey\")\n",
    "                bot.reply_to(message,\"type help to get started!\")\n",
    "                \n",
    "            elif x==3:\n",
    "                bot.reply_to(message,\"Hi!\")\n",
    "                bot.reply_to(message,\"type help to get started!\")\n",
    "                \n",
    "            elif x==4:\n",
    "                bot.reply_to(message,\"Ola!\")\n",
    "                bot.reply_to(message,\"type help to get started!\")\n",
    "                \n",
    "            else: \n",
    "                \n",
    "                bot.reply_to(message,\"Bonjour\")    \n",
    "                bot.reply_to(message,\"type help to get started!\")\n",
    "            break\n",
    "        elif string_id == \"college_mit\":\n",
    "            location = \"https://www.google.com/maps/place/MIT+World+Peace+University/@18.5179119,73.8142603,17z/data=!4m5!3m4!1s0x3bc2bfb9e53a05f9:0x2be5e8da02be693e!8m2!3d18.5177542!4d73.8148826\"\n",
    "#             print(\"test\")\n",
    "            x = random.randint(3)\n",
    "            if x==1:\n",
    "                bot.send_location(message.chat.id,latitude=18.5179119,longitude=73.8142603)\n",
    "                \n",
    "            elif x==2:\n",
    "                bot.send_message(message.chat.id,\"Here's the address \\n Survey No, 124, Paud Rd, Kothrud, Pune, Maharashtra 411038\")\n",
    "                \n",
    "            else:\n",
    "                \n",
    "                bot.send_message(message.chat.id,\"Here's the link that will take you to Google Maps\")\n",
    "                bot.send_message(message.chat.id,location)\n",
    "            break    \n",
    "            \n",
    "        elif string_id == \"adm_dsbda\":  \n",
    "            bot.reply_to(message,\"To get into DSBDA program you need to give PGPET exam\")\n",
    "            break\n",
    "        \n",
    "        elif string_id == \"pgpet\":\n",
    "            bot.reply_to(message,\"PGPET is an entrance exam you need to clear to secure admission in MIT\")\n",
    "            bot.send_message(message.chat.id,\"You can find out more by asking me about how to study for pgpet\")\n",
    "            break \n",
    "            \n",
    "        elif string_id == \"about_pgpet\" and (text_message ==\"is it easy\" or text_message == \"is the test easy\"):\n",
    "                         bot.reply_to(message,\"Only time will tell\")      \n",
    "                         break \n",
    "        elif string_id == \"about_pgpet\":\n",
    "            bot.reply_to(message,\"1. Prepare Basic English        2. Data Structures             3. Computer networks      4. Logical Reasoning             Check the website for more information\")\n",
    "            break \n",
    "            \n",
    "        elif string_id == \"adm_p_doc_mit\":\n",
    "            bot.reply_to(message,\"1. Leaving Certificate(Original) 2. Migration Certificate(Original) 3.UG Final Year marksheet 4.Adhaar Card\")\n",
    "            \n",
    "            \n",
    "        elif string_id == \"mit_help\": \n",
    "            bot.reply_to(message,\"I can help you with 1. college location 2. admission process for dsbda 3. pgpet 4. what documents are required for admission process *Refrain from using question mark while chatting with the bot*\")\n",
    "            break\n",
    "            \n",
    "        elif string_id == \"byee\":\n",
    "            x = random.randint(5)\n",
    "            if x==1:\n",
    "                bot.reply_to(message,\"bye-bye!\")\n",
    "                \n",
    "            if x==2:\n",
    "                bot.reply_to(message,\"good talking to you!\")\n",
    "            if x==3:\n",
    "                bot.reply_to(message,\"Have a good day!\")    \n",
    "            if x==4:\n",
    "                bot.reply_to(message,\"I hope you got what you found\")    \n",
    "            if x==5:\n",
    "                bot.reply_to(message,\"Goodbye!\")\n",
    "            if x==6:\n",
    "                bot.reply_to(message,\"Bye-Bye. I am gonna rest now\")\n",
    "            break\n",
    "#             else:\n",
    "#                 bot.reply_to(message,\"Goodbye Friend\")\n",
    "            \n",
    "        elif string_id == \"thanks\":\n",
    "            x = random.randint(5)\n",
    "            if x==1:\n",
    "                bot.reply_to(message,\"no problem\")   \n",
    "            if x==2:\n",
    "                bot.reply_to(message,\"It's my job\")\n",
    "            if x==3:\n",
    "                bot.reply_to(message,\"Your Welcome\")    \n",
    "            \n",
    "            break \n",
    "            \n",
    "        elif string_id == \"okay\":\n",
    "            x = random.randint(5)\n",
    "            if x==1:\n",
    "                bot.reply_to(message,\"cool\")   \n",
    "            if x==2:\n",
    "                bot.reply_to(message,\"okay\")\n",
    "            if x==3:\n",
    "                bot.reply_to(message,\"yeah\")    \n",
    "            \n",
    "            break         \n",
    "                \n",
    "                \n",
    "                \n",
    "                \n",
    "                \n",
    "                \n",
    "                \n",
    "                \n",
    "                \n",
    "                \n",
    "                \n",
    "            \n",
    "    \n",
    "#     match_id = found_matches[0][0]\n",
    "#     string_id = nlp.vocab.strings[match_id]\n",
    "\n",
    "# small_talk(message)        \n",
    "    \n",
    "bot.polling()    \n",
    "    \n",
    "    \n",
    "    \n",
    "# Bug: Question marks are ignored if there is space between the phrase and question mark\n",
    "#  EG. How are you ?  (will work)\n",
    "#  How are you? (Won't work)\n",
    "\n"
   ]
  },
  {
   "cell_type": "code",
   "execution_count": 36,
   "metadata": {},
   "outputs": [],
   "source": [
    "doc = nlp(u\"How do i study for pgpet\")\n",
    "matches = matcher(doc)"
   ]
  },
  {
   "cell_type": "code",
   "execution_count": 37,
   "metadata": {},
   "outputs": [
    {
     "data": {
      "text/plain": [
       "[(3859451907122175582, 0, 6), (4069992424009220328, 5, 6)]"
      ]
     },
     "execution_count": 37,
     "metadata": {},
     "output_type": "execute_result"
    }
   ],
   "source": [
    "matches"
   ]
  },
  {
   "cell_type": "code",
   "execution_count": 38,
   "metadata": {},
   "outputs": [
    {
     "name": "stdout",
     "output_type": "stream",
     "text": [
      "3859451907122175582 about_pgpet 0 6 for pgpet\n",
      "4069992424009220328 pgpet 5 6 study for pgpet\n"
     ]
    }
   ],
   "source": [
    "for match_id,start,end in matches:\n",
    "        string_id = nlp.vocab.strings[match_id]\n",
    "        span = doc[start-2:end+2]\n",
    "        print(match_id,string_id,start,end,span.text)"
   ]
  }
 ],
 "metadata": {
  "kernelspec": {
   "display_name": "Python 3",
   "language": "python",
   "name": "python3"
  },
  "language_info": {
   "codemirror_mode": {
    "name": "ipython",
    "version": 3
   },
   "file_extension": ".py",
   "mimetype": "text/x-python",
   "name": "python",
   "nbconvert_exporter": "python",
   "pygments_lexer": "ipython3",
   "version": "3.8.3"
  }
 },
 "nbformat": 4,
 "nbformat_minor": 5
}
